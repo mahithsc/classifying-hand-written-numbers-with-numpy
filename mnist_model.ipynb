{
 "cells": [
  {
   "cell_type": "code",
   "execution_count": null,
   "metadata": {},
   "outputs": [],
   "source": [
    "!pip3 install numpy\n",
    "!pip3 install keras\n",
    "!pip3 install tensorflow-macos\n",
    "!pip3 install matplotlib"
   ]
  },
  {
   "cell_type": "code",
   "execution_count": null,
   "metadata": {},
   "outputs": [],
   "source": []
  }
 ],
 "metadata": {
  "kernelspec": {
   "display_name": "env",
   "language": "python",
   "name": "python3"
  },
  "language_info": {
   "name": "python",
   "version": "3.10.9"
  },
  "orig_nbformat": 4,
  "vscode": {
   "interpreter": {
    "hash": "c8db600680419f636ee47619a34673a8a9109f2feda447305df4c32dc93d62f9"
   }
  }
 },
 "nbformat": 4,
 "nbformat_minor": 2
}
